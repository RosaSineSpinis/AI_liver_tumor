{
 "cells": [
  {
   "cell_type": "code",
   "execution_count": 15,
   "metadata": {
    "collapsed": true
   },
   "outputs": [],
   "source": [
    "from __future__ import print_function\n",
    "\n",
    "import SimpleITK as sitk\n",
    "\n",
    "import sys, time, os\n",
    "import numpy as np\n"
   ]
  },
  {
   "cell_type": "code",
   "execution_count": 17,
   "outputs": [],
   "source": [
    "\n",
    "# if len( sys.argv ) < 2:\n",
    "#     print( \"Usage: python \" + __file__ + \"<output_directory>\" )\n",
    "#     sys.exit ( 1 )"
   ],
   "metadata": {
    "collapsed": false,
    "pycharm": {
     "name": "#%%\n"
    }
   }
  },
  {
   "cell_type": "code",
   "execution_count": 18,
   "outputs": [],
   "source": [
    "def writeSlices(series_tag_values, new_img, i):\n",
    "    image_slice = new_img[:,:,i]\n",
    "\n",
    "    # Tags shared by the series.\n",
    "    list(map(lambda tag_value: image_slice.SetMetaData(tag_value[0], tag_value[1]), series_tag_values))\n",
    "\n",
    "    # Slice specific tags.\n",
    "    image_slice.SetMetaData(\"0008|0012\", time.strftime(\"%Y%m%d\")) # Instance Creation Date\n",
    "    image_slice.SetMetaData(\"0008|0013\", time.strftime(\"%H%M%S\")) # Instance Creation Time\n",
    "\n",
    "    # Setting the type to CT preserves the slice location.\n",
    "    image_slice.SetMetaData(\"0008|0060\", \"CT\")  # set the type to CT so the thickness is carried over\n",
    "\n",
    "    # (0020, 0032) image position patient determines the 3D spacing between slices.\n",
    "    image_slice.SetMetaData(\"0020|0032\", '\\\\'.join(map(str,new_img.TransformIndexToPhysicalPoint((0,0,i))))) # Image Position (Patient)\n",
    "    image_slice.SetMetaData(\"0020,0013\", str(i)) # Instance Number\n",
    "\n",
    "    # Write to the output directory and add the extension dcm, to force writing in DICOM format.\n",
    "    writer.SetFileName(os.path.join(sys.argv[1],str(i)+'.dcm'))\n",
    "    writer.Execute(image_slice)\n"
   ],
   "metadata": {
    "collapsed": false,
    "pycharm": {
     "name": "#%%\n"
    }
   }
  },
  {
   "cell_type": "code",
   "execution_count": 20,
   "outputs": [
    {
     "ename": "RuntimeError",
     "evalue": "Exception thrown in SimpleITK ImageFileWriter_Execute: D:\\a\\1\\sitk-build\\ITK\\Modules\\IO\\ImageBase\\src\\itkImageIOBase.cxx:703:\nITK ERROR: GDCMImageIO(000001C7BDBDFF60): Could not open file: -f\\0.dcm for writing.\nReason: No such file or directory",
     "output_type": "error",
     "traceback": [
      "\u001B[1;31m---------------------------------------------------------------------------\u001B[0m",
      "\u001B[1;31mRuntimeError\u001B[0m                              Traceback (most recent call last)",
      "Cell \u001B[1;32mIn [20], line 38\u001B[0m\n\u001B[0;32m     29\u001B[0m series_tag_values \u001B[38;5;241m=\u001B[39m [(\u001B[38;5;124m\"\u001B[39m\u001B[38;5;124m0008|0031\u001B[39m\u001B[38;5;124m\"\u001B[39m,modification_time), \u001B[38;5;66;03m# Series Time\u001B[39;00m\n\u001B[0;32m     30\u001B[0m                   (\u001B[38;5;124m\"\u001B[39m\u001B[38;5;124m0008|0021\u001B[39m\u001B[38;5;124m\"\u001B[39m,modification_date), \u001B[38;5;66;03m# Series Date\u001B[39;00m\n\u001B[0;32m     31\u001B[0m                   (\u001B[38;5;124m\"\u001B[39m\u001B[38;5;124m0008|0008\u001B[39m\u001B[38;5;124m\"\u001B[39m,\u001B[38;5;124m\"\u001B[39m\u001B[38;5;124mDERIVED\u001B[39m\u001B[38;5;130;01m\\\\\u001B[39;00m\u001B[38;5;124mSECONDARY\u001B[39m\u001B[38;5;124m\"\u001B[39m), \u001B[38;5;66;03m# Image Type\u001B[39;00m\n\u001B[1;32m   (...)\u001B[0m\n\u001B[0;32m     34\u001B[0m                                                     direction[\u001B[38;5;241m1\u001B[39m],direction[\u001B[38;5;241m4\u001B[39m],direction[\u001B[38;5;241m7\u001B[39m])))),\n\u001B[0;32m     35\u001B[0m                   (\u001B[38;5;124m\"\u001B[39m\u001B[38;5;124m0008|103e\u001B[39m\u001B[38;5;124m\"\u001B[39m, \u001B[38;5;124m\"\u001B[39m\u001B[38;5;124mCreated-SimpleITK\u001B[39m\u001B[38;5;124m\"\u001B[39m)] \u001B[38;5;66;03m# Series Description\u001B[39;00m\n\u001B[0;32m     37\u001B[0m \u001B[38;5;66;03m# Write slices to output directory\u001B[39;00m\n\u001B[1;32m---> 38\u001B[0m \u001B[38;5;28;43mlist\u001B[39;49m\u001B[43m(\u001B[49m\u001B[38;5;28;43mmap\u001B[39;49m\u001B[43m(\u001B[49m\u001B[38;5;28;43;01mlambda\u001B[39;49;00m\u001B[43m \u001B[49m\u001B[43mi\u001B[49m\u001B[43m:\u001B[49m\u001B[43m \u001B[49m\u001B[43mwriteSlices\u001B[49m\u001B[43m(\u001B[49m\u001B[43mseries_tag_values\u001B[49m\u001B[43m,\u001B[49m\u001B[43m \u001B[49m\u001B[43mnew_img\u001B[49m\u001B[43m,\u001B[49m\u001B[43m \u001B[49m\u001B[43mi\u001B[49m\u001B[43m)\u001B[49m\u001B[43m,\u001B[49m\u001B[43m \u001B[49m\u001B[38;5;28;43mrange\u001B[39;49m\u001B[43m(\u001B[49m\u001B[43mnew_img\u001B[49m\u001B[38;5;241;43m.\u001B[39;49m\u001B[43mGetDepth\u001B[49m\u001B[43m(\u001B[49m\u001B[43m)\u001B[49m\u001B[43m)\u001B[49m\u001B[43m)\u001B[49m\u001B[43m)\u001B[49m\n\u001B[0;32m     40\u001B[0m \u001B[38;5;66;03m# Re-read the series\u001B[39;00m\n\u001B[0;32m     41\u001B[0m \u001B[38;5;66;03m# Read the original series. First obtain the series file names using the\u001B[39;00m\n\u001B[0;32m     42\u001B[0m \u001B[38;5;66;03m# image series reader.\u001B[39;00m\n\u001B[0;32m     43\u001B[0m data_directory \u001B[38;5;241m=\u001B[39m \u001B[38;5;124mr\u001B[39m\u001B[38;5;124m\"\u001B[39m\u001B[38;5;124mC:\u001B[39m\u001B[38;5;124m\\\u001B[39m\u001B[38;5;124mUsers\u001B[39m\u001B[38;5;124m\\\u001B[39m\u001B[38;5;124mpiotr\u001B[39m\u001B[38;5;124m\\\u001B[39m\u001B[38;5;124mPycharmProjects\u001B[39m\u001B[38;5;124m\\\u001B[39m\u001B[38;5;124mliver_cancer\u001B[39m\u001B[38;5;124m\"\u001B[39m\n",
      "Cell \u001B[1;32mIn [20], line 38\u001B[0m, in \u001B[0;36m<lambda>\u001B[1;34m(i)\u001B[0m\n\u001B[0;32m     29\u001B[0m series_tag_values \u001B[38;5;241m=\u001B[39m [(\u001B[38;5;124m\"\u001B[39m\u001B[38;5;124m0008|0031\u001B[39m\u001B[38;5;124m\"\u001B[39m,modification_time), \u001B[38;5;66;03m# Series Time\u001B[39;00m\n\u001B[0;32m     30\u001B[0m                   (\u001B[38;5;124m\"\u001B[39m\u001B[38;5;124m0008|0021\u001B[39m\u001B[38;5;124m\"\u001B[39m,modification_date), \u001B[38;5;66;03m# Series Date\u001B[39;00m\n\u001B[0;32m     31\u001B[0m                   (\u001B[38;5;124m\"\u001B[39m\u001B[38;5;124m0008|0008\u001B[39m\u001B[38;5;124m\"\u001B[39m,\u001B[38;5;124m\"\u001B[39m\u001B[38;5;124mDERIVED\u001B[39m\u001B[38;5;130;01m\\\\\u001B[39;00m\u001B[38;5;124mSECONDARY\u001B[39m\u001B[38;5;124m\"\u001B[39m), \u001B[38;5;66;03m# Image Type\u001B[39;00m\n\u001B[1;32m   (...)\u001B[0m\n\u001B[0;32m     34\u001B[0m                                                     direction[\u001B[38;5;241m1\u001B[39m],direction[\u001B[38;5;241m4\u001B[39m],direction[\u001B[38;5;241m7\u001B[39m])))),\n\u001B[0;32m     35\u001B[0m                   (\u001B[38;5;124m\"\u001B[39m\u001B[38;5;124m0008|103e\u001B[39m\u001B[38;5;124m\"\u001B[39m, \u001B[38;5;124m\"\u001B[39m\u001B[38;5;124mCreated-SimpleITK\u001B[39m\u001B[38;5;124m\"\u001B[39m)] \u001B[38;5;66;03m# Series Description\u001B[39;00m\n\u001B[0;32m     37\u001B[0m \u001B[38;5;66;03m# Write slices to output directory\u001B[39;00m\n\u001B[1;32m---> 38\u001B[0m \u001B[38;5;28mlist\u001B[39m(\u001B[38;5;28mmap\u001B[39m(\u001B[38;5;28;01mlambda\u001B[39;00m i: \u001B[43mwriteSlices\u001B[49m\u001B[43m(\u001B[49m\u001B[43mseries_tag_values\u001B[49m\u001B[43m,\u001B[49m\u001B[43m \u001B[49m\u001B[43mnew_img\u001B[49m\u001B[43m,\u001B[49m\u001B[43m \u001B[49m\u001B[43mi\u001B[49m\u001B[43m)\u001B[49m, \u001B[38;5;28mrange\u001B[39m(new_img\u001B[38;5;241m.\u001B[39mGetDepth())))\n\u001B[0;32m     40\u001B[0m \u001B[38;5;66;03m# Re-read the series\u001B[39;00m\n\u001B[0;32m     41\u001B[0m \u001B[38;5;66;03m# Read the original series. First obtain the series file names using the\u001B[39;00m\n\u001B[0;32m     42\u001B[0m \u001B[38;5;66;03m# image series reader.\u001B[39;00m\n\u001B[0;32m     43\u001B[0m data_directory \u001B[38;5;241m=\u001B[39m \u001B[38;5;124mr\u001B[39m\u001B[38;5;124m\"\u001B[39m\u001B[38;5;124mC:\u001B[39m\u001B[38;5;124m\\\u001B[39m\u001B[38;5;124mUsers\u001B[39m\u001B[38;5;124m\\\u001B[39m\u001B[38;5;124mpiotr\u001B[39m\u001B[38;5;124m\\\u001B[39m\u001B[38;5;124mPycharmProjects\u001B[39m\u001B[38;5;124m\\\u001B[39m\u001B[38;5;124mliver_cancer\u001B[39m\u001B[38;5;124m\"\u001B[39m\n",
      "Cell \u001B[1;32mIn [18], line 20\u001B[0m, in \u001B[0;36mwriteSlices\u001B[1;34m(series_tag_values, new_img, i)\u001B[0m\n\u001B[0;32m     18\u001B[0m \u001B[38;5;66;03m# Write to the output directory and add the extension dcm, to force writing in DICOM format.\u001B[39;00m\n\u001B[0;32m     19\u001B[0m writer\u001B[38;5;241m.\u001B[39mSetFileName(os\u001B[38;5;241m.\u001B[39mpath\u001B[38;5;241m.\u001B[39mjoin(sys\u001B[38;5;241m.\u001B[39margv[\u001B[38;5;241m1\u001B[39m],\u001B[38;5;28mstr\u001B[39m(i)\u001B[38;5;241m+\u001B[39m\u001B[38;5;124m'\u001B[39m\u001B[38;5;124m.dcm\u001B[39m\u001B[38;5;124m'\u001B[39m))\n\u001B[1;32m---> 20\u001B[0m \u001B[43mwriter\u001B[49m\u001B[38;5;241;43m.\u001B[39;49m\u001B[43mExecute\u001B[49m\u001B[43m(\u001B[49m\u001B[43mimage_slice\u001B[49m\u001B[43m)\u001B[49m\n",
      "File \u001B[1;32m~\\PycharmProjects\\liver_cancer\\env_liver_10\\lib\\site-packages\\SimpleITK\\SimpleITK.py:7913\u001B[0m, in \u001B[0;36mImageFileWriter.Execute\u001B[1;34m(self, *args)\u001B[0m\n\u001B[0;32m   7906\u001B[0m \u001B[38;5;28;01mdef\u001B[39;00m \u001B[38;5;21mExecute\u001B[39m(\u001B[38;5;28mself\u001B[39m, \u001B[38;5;241m*\u001B[39margs):\n\u001B[0;32m   7907\u001B[0m     \u001B[38;5;124mr\u001B[39m\u001B[38;5;124;03m\"\"\"\u001B[39;00m\n\u001B[0;32m   7908\u001B[0m \u001B[38;5;124;03m    Execute(ImageFileWriter self, Image arg2)\u001B[39;00m\n\u001B[0;32m   7909\u001B[0m \u001B[38;5;124;03m    Execute(ImageFileWriter self, Image arg2, std::string const & inFileName, bool useCompression, int compressionLevel)\u001B[39;00m\n\u001B[0;32m   7910\u001B[0m \n\u001B[0;32m   7911\u001B[0m \n\u001B[0;32m   7912\u001B[0m \u001B[38;5;124;03m    \"\"\"\u001B[39;00m\n\u001B[1;32m-> 7913\u001B[0m     \u001B[38;5;28;01mreturn\u001B[39;00m \u001B[43m_SimpleITK\u001B[49m\u001B[38;5;241;43m.\u001B[39;49m\u001B[43mImageFileWriter_Execute\u001B[49m\u001B[43m(\u001B[49m\u001B[38;5;28;43mself\u001B[39;49m\u001B[43m,\u001B[49m\u001B[43m \u001B[49m\u001B[38;5;241;43m*\u001B[39;49m\u001B[43margs\u001B[49m\u001B[43m)\u001B[49m\n",
      "\u001B[1;31mRuntimeError\u001B[0m: Exception thrown in SimpleITK ImageFileWriter_Execute: D:\\a\\1\\sitk-build\\ITK\\Modules\\IO\\ImageBase\\src\\itkImageIOBase.cxx:703:\nITK ERROR: GDCMImageIO(000001C7BDBDFF60): Could not open file: -f\\0.dcm for writing.\nReason: No such file or directory"
     ]
    }
   ],
   "source": [
    "# Create a new series from a numpy array\n",
    "new_arr = np.random.uniform(-10, 10, size = (3,4,5)).astype(np.int16)\n",
    "new_img = sitk.GetImageFromArray(new_arr)\n",
    "new_img.SetSpacing([2.5,3.5,4.5])\n",
    "\n",
    "# Write the 3D image as a series\n",
    "# IMPORTANT: There are many DICOM tags that need to be updated when you modify an\n",
    "#            original image. This is a delicate opration and requires knowlege of\n",
    "#            the DICOM standard. This example only modifies some. For a more complete\n",
    "#            list of tags that need to be modified see:\n",
    "#                           http://gdcm.sourceforge.net/wiki/index.php/Writing_DICOM\n",
    "#            If it is critical for your work to generate valid DICOM files,\n",
    "#            It is recommended to use David Clunie's Dicom3tools to validate the files\n",
    "#                           (http://www.dclunie.com/dicom3tools.html).\n",
    "\n",
    "writer = sitk.ImageFileWriter()\n",
    "# Use the study/series/frame of reference information given in the meta-data\n",
    "# dictionary and not the automatically generated information from the file IO\n",
    "writer.KeepOriginalImageUIDOn()\n",
    "\n",
    "modification_time = time.strftime(\"%H%M%S\")\n",
    "modification_date = time.strftime(\"%Y%m%d\")\n",
    "\n",
    "# Copy some of the tags and add the relevant tags indicating the change.\n",
    "# For the series instance UID (0020|000e), each of the components is a number, cannot start\n",
    "# with zero, and separated by a '.' We create a unique series ID using the date and time.\n",
    "# tags of interest:\n",
    "direction = new_img.GetDirection()\n",
    "series_tag_values = [(\"0008|0031\",modification_time), # Series Time\n",
    "                  (\"0008|0021\",modification_date), # Series Date\n",
    "                  (\"0008|0008\",\"DERIVED\\\\SECONDARY\"), # Image Type\n",
    "                  (\"0020|000e\", \"1.2.826.0.1.3680043.2.1125.\"+modification_date+\".1\"+modification_time), # Series Instance UID\n",
    "                  (\"0020|0037\", '\\\\'.join(map(str, (direction[0], direction[3], direction[6],# Image Orientation (Patient)\n",
    "                                                    direction[1],direction[4],direction[7])))),\n",
    "                  (\"0008|103e\", \"Created-SimpleITK\")] # Series Description\n",
    "\n",
    "# Write slices to output directory\n",
    "list(map(lambda i: writeSlices(series_tag_values, new_img, i), range(new_img.GetDepth())))\n",
    "\n",
    "# Re-read the series\n",
    "# Read the original series. First obtain the series file names using the\n",
    "# image series reader.\n",
    "data_directory = r\"C:\\Users\\piotr\\PycharmProjects\\liver_cancer\"\n",
    "    # sys.argv[1]\n",
    "series_IDs = sitk.ImageSeriesReader.GetGDCMSeriesIDs(data_directory)\n",
    "if not series_IDs:\n",
    "    print(\"ERROR: given directory \\\"\"+data_directory+\"\\\" does not contain a DICOM series.\")\n",
    "    sys.exit(1)\n",
    "series_file_names = sitk.ImageSeriesReader.GetGDCMSeriesFileNames(data_directory, series_IDs[0])\n",
    "\n",
    "series_reader = sitk.ImageSeriesReader()\n",
    "series_reader.SetFileNames(series_file_names)\n",
    "\n",
    "# Configure the reader to load all of the DICOM tags (public+private):\n",
    "# By default tags are not loaded (saves time).\n",
    "# By default if tags are loaded, the private tags are not loaded.\n",
    "# We explicitly configure the reader to load tags, including the\n",
    "# private ones.\n",
    "series_reader.LoadPrivateTagsOn()\n",
    "image3D = series_reader.Execute()\n",
    "print(image3D.GetSpacing(),'vs',new_img.GetSpacing())\n",
    "sys.exit( 0 )"
   ],
   "metadata": {
    "collapsed": false,
    "pycharm": {
     "name": "#%%\n"
    }
   }
  }
 ],
 "metadata": {
  "kernelspec": {
   "display_name": "Python 3",
   "language": "python",
   "name": "python3"
  },
  "language_info": {
   "codemirror_mode": {
    "name": "ipython",
    "version": 2
   },
   "file_extension": ".py",
   "mimetype": "text/x-python",
   "name": "python",
   "nbconvert_exporter": "python",
   "pygments_lexer": "ipython2",
   "version": "2.7.6"
  }
 },
 "nbformat": 4,
 "nbformat_minor": 0
}